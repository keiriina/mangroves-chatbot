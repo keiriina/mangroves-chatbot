{
  "nbformat": 4,
  "nbformat_minor": 0,
  "metadata": {
    "colab": {
      "provenance": [],
      "authorship_tag": "ABX9TyPyypyEYodiFlJfOEm/XKKu",
      "include_colab_link": true
    },
    "kernelspec": {
      "name": "python3",
      "display_name": "Python 3"
    },
    "language_info": {
      "name": "python"
    }
  },
  "cells": [
    {
      "cell_type": "markdown",
      "metadata": {
        "id": "view-in-github",
        "colab_type": "text"
      },
      "source": [
        "<a href=\"https://colab.research.google.com/github/keiriina/mangroves-chatbot/blob/main/chatbot_with_cohere_api.ipynb\" target=\"_parent\"><img src=\"https://colab.research.google.com/assets/colab-badge.svg\" alt=\"Open In Colab\"/></a>"
      ]
    },
    {
      "cell_type": "markdown",
      "source": [
        "# Mangrove Chatbot\n",
        "\n",
        "> Hi! This is a chatbot that answers basic questions about mangroves.\n",
        "\n",
        "\n",
        "We'll do the following steps:\n",
        "- **Step 1: Quickstart** - Learn the quickest and easiest way to call the Chat endpoint.\n",
        "- **Step 2: Creating a custom system prompt** - Steer a chatbot's response toward certain styles, personas, or other characteristics.\n",
        "- **Step 3: Streaming the response** - Display a chatbot's response incrementally as it is generated, as opposed to waiting for the entire response to be completed.\n",
        "- **Step 4: Building the Chat History** - Explore how to get the chatbot to maintain the context of the conversation.\n",
        "- **Step 5: Retrieval-Augmented Generation (RAG): Adding a knowledge base** - Contextualize responses by adding a source of truth where the chatbot should find answers"
      ],
      "metadata": {
        "id": "6TJfVpIC81MG"
      }
    },
    {
      "cell_type": "code",
      "execution_count": 1,
      "metadata": {
        "id": "eXeg_pgZ8iiL",
        "outputId": "a0635b99-7b04-44f4-f468-4177784f839a",
        "colab": {
          "base_uri": "https://localhost:8080/"
        }
      },
      "outputs": [
        {
          "output_type": "stream",
          "name": "stdout",
          "text": [
            "Collecting cohere\n",
            "  Downloading cohere-5.17.0-py3-none-any.whl.metadata (3.4 kB)\n",
            "Collecting python-dotenv\n",
            "  Downloading python_dotenv-1.1.1-py3-none-any.whl.metadata (24 kB)\n",
            "Requirement already satisfied: requests in /usr/local/lib/python3.11/dist-packages (2.32.3)\n",
            "Collecting fastavro<2.0.0,>=1.9.4 (from cohere)\n",
            "  Downloading fastavro-1.12.0-cp311-cp311-manylinux2014_x86_64.manylinux_2_17_x86_64.manylinux_2_28_x86_64.whl.metadata (5.7 kB)\n",
            "Requirement already satisfied: httpx>=0.21.2 in /usr/local/lib/python3.11/dist-packages (from cohere) (0.28.1)\n",
            "Collecting httpx-sse==0.4.0 (from cohere)\n",
            "  Downloading httpx_sse-0.4.0-py3-none-any.whl.metadata (9.0 kB)\n",
            "Requirement already satisfied: pydantic>=1.9.2 in /usr/local/lib/python3.11/dist-packages (from cohere) (2.11.7)\n",
            "Requirement already satisfied: pydantic-core<3.0.0,>=2.18.2 in /usr/local/lib/python3.11/dist-packages (from cohere) (2.33.2)\n",
            "Requirement already satisfied: tokenizers<1,>=0.15 in /usr/local/lib/python3.11/dist-packages (from cohere) (0.21.4)\n",
            "Collecting types-requests<3.0.0,>=2.0.0 (from cohere)\n",
            "  Downloading types_requests-2.32.4.20250809-py3-none-any.whl.metadata (2.0 kB)\n",
            "Requirement already satisfied: typing_extensions>=4.0.0 in /usr/local/lib/python3.11/dist-packages (from cohere) (4.14.1)\n",
            "Requirement already satisfied: charset-normalizer<4,>=2 in /usr/local/lib/python3.11/dist-packages (from requests) (3.4.2)\n",
            "Requirement already satisfied: idna<4,>=2.5 in /usr/local/lib/python3.11/dist-packages (from requests) (3.10)\n",
            "Requirement already satisfied: urllib3<3,>=1.21.1 in /usr/local/lib/python3.11/dist-packages (from requests) (2.5.0)\n",
            "Requirement already satisfied: certifi>=2017.4.17 in /usr/local/lib/python3.11/dist-packages (from requests) (2025.8.3)\n",
            "Requirement already satisfied: anyio in /usr/local/lib/python3.11/dist-packages (from httpx>=0.21.2->cohere) (4.10.0)\n",
            "Requirement already satisfied: httpcore==1.* in /usr/local/lib/python3.11/dist-packages (from httpx>=0.21.2->cohere) (1.0.9)\n",
            "Requirement already satisfied: h11>=0.16 in /usr/local/lib/python3.11/dist-packages (from httpcore==1.*->httpx>=0.21.2->cohere) (0.16.0)\n",
            "Requirement already satisfied: annotated-types>=0.6.0 in /usr/local/lib/python3.11/dist-packages (from pydantic>=1.9.2->cohere) (0.7.0)\n",
            "Requirement already satisfied: typing-inspection>=0.4.0 in /usr/local/lib/python3.11/dist-packages (from pydantic>=1.9.2->cohere) (0.4.1)\n",
            "Requirement already satisfied: huggingface-hub<1.0,>=0.16.4 in /usr/local/lib/python3.11/dist-packages (from tokenizers<1,>=0.15->cohere) (0.34.3)\n",
            "Requirement already satisfied: filelock in /usr/local/lib/python3.11/dist-packages (from huggingface-hub<1.0,>=0.16.4->tokenizers<1,>=0.15->cohere) (3.18.0)\n",
            "Requirement already satisfied: fsspec>=2023.5.0 in /usr/local/lib/python3.11/dist-packages (from huggingface-hub<1.0,>=0.16.4->tokenizers<1,>=0.15->cohere) (2025.3.0)\n",
            "Requirement already satisfied: packaging>=20.9 in /usr/local/lib/python3.11/dist-packages (from huggingface-hub<1.0,>=0.16.4->tokenizers<1,>=0.15->cohere) (25.0)\n",
            "Requirement already satisfied: pyyaml>=5.1 in /usr/local/lib/python3.11/dist-packages (from huggingface-hub<1.0,>=0.16.4->tokenizers<1,>=0.15->cohere) (6.0.2)\n",
            "Requirement already satisfied: tqdm>=4.42.1 in /usr/local/lib/python3.11/dist-packages (from huggingface-hub<1.0,>=0.16.4->tokenizers<1,>=0.15->cohere) (4.67.1)\n",
            "Requirement already satisfied: hf-xet<2.0.0,>=1.1.3 in /usr/local/lib/python3.11/dist-packages (from huggingface-hub<1.0,>=0.16.4->tokenizers<1,>=0.15->cohere) (1.1.7)\n",
            "Requirement already satisfied: sniffio>=1.1 in /usr/local/lib/python3.11/dist-packages (from anyio->httpx>=0.21.2->cohere) (1.3.1)\n",
            "Downloading cohere-5.17.0-py3-none-any.whl (295 kB)\n",
            "\u001b[2K   \u001b[90m━━━━━━━━━━━━━━━━━━━━━━━━━━━━━━━━━━━━━━━━\u001b[0m \u001b[32m295.3/295.3 kB\u001b[0m \u001b[31m1.4 MB/s\u001b[0m eta \u001b[36m0:00:00\u001b[0m\n",
            "\u001b[?25hDownloading httpx_sse-0.4.0-py3-none-any.whl (7.8 kB)\n",
            "Downloading python_dotenv-1.1.1-py3-none-any.whl (20 kB)\n",
            "Downloading fastavro-1.12.0-cp311-cp311-manylinux2014_x86_64.manylinux_2_17_x86_64.manylinux_2_28_x86_64.whl (3.4 MB)\n",
            "\u001b[2K   \u001b[90m━━━━━━━━━━━━━━━━━━━━━━━━━━━━━━━━━━━━━━━━\u001b[0m \u001b[32m3.4/3.4 MB\u001b[0m \u001b[31m11.7 MB/s\u001b[0m eta \u001b[36m0:00:00\u001b[0m\n",
            "\u001b[?25hDownloading types_requests-2.32.4.20250809-py3-none-any.whl (20 kB)\n",
            "Installing collected packages: types-requests, python-dotenv, httpx-sse, fastavro, cohere\n",
            "Successfully installed cohere-5.17.0 fastavro-1.12.0 httpx-sse-0.4.0 python-dotenv-1.1.1 types-requests-2.32.4.20250809\n"
          ]
        }
      ],
      "source": [
        "# install\n",
        "! pip install cohere python-dotenv requests"
      ]
    },
    {
      "cell_type": "code",
      "source": [
        "# import\n",
        "import cohere\n",
        "import os\n",
        "import dotenv\n",
        "import requests"
      ],
      "metadata": {
        "id": "VwnuYlpoADab"
      },
      "execution_count": 8,
      "outputs": []
    },
    {
      "cell_type": "code",
      "source": [
        "# load env\n",
        "dotenv.load_dotenv()\n",
        "\n",
        "co = cohere.ClientV2(os.getenv(\"COHERE_API_KEY\"))"
      ],
      "metadata": {
        "id": "bHldJRHwAfOm"
      },
      "execution_count": 3,
      "outputs": []
    },
    {
      "cell_type": "markdown",
      "source": [
        "## Define the System Prompt\n",
        "\n",
        "To get started with Chat, we add a user message to the `messages` parameter and define the model type in the `model` parameter. We then call the Chat endpoint through the client we created earlier.\n",
        "\n",
        "The response contains several objects. For simplicity, what we want right now is the `text` object.\n",
        "\n",
        "Here's an example of the assistant responding to a new hire's query asking for help to make introductions."
      ],
      "metadata": {
        "id": "3LL2OwHwADnT"
      }
    },
    {
      "cell_type": "code",
      "source": [
        "# Add the user message\n",
        "message = \"I'm teaching about Mangroves in the Philippines. Can you tell me more about mangroves?\"\n",
        "\n",
        "# Create a custom system message\n",
        "system_message=\"\"\"## Task and Context\n",
        "You are a speaker for the locals of a community that needs to conserve their mangrove systems.\n",
        "\n",
        "## Style Guide\n",
        "Speak in a way that can be easily understood by anyone, even people who are not expert in English. Be precise.\"\"\"\n",
        "\n",
        "# Add the messages\n",
        "messages = [\n",
        "    {\n",
        "        'role': 'system',\n",
        "        'content': system_message\n",
        "    },\n",
        "    {\n",
        "        'role': 'user',\n",
        "        'content': message\n",
        "    }\n",
        "]\n",
        "\n",
        "# Generate the response by streaming it\n",
        "response = co.chat_stream(model=\"command-r-plus-08-2024\",\n",
        "                          messages=[\n",
        "                              {\n",
        "                                  'role':'user',\n",
        "                                  'content': message\n",
        "                              }\n",
        "                          ])\n",
        "\n",
        "for event in response:\n",
        "    if event.type == \"content-delta\":\n",
        "        print(event.delta.message.content.text, end=\"\")"
      ],
      "metadata": {
        "id": "IL2bqGbvBX0T",
        "outputId": "5f890e10-5dd9-418c-c3e8-f97f08b46ad4",
        "colab": {
          "base_uri": "https://localhost:8080/"
        }
      },
      "execution_count": 6,
      "outputs": [
        {
          "output_type": "stream",
          "name": "stdout",
          "text": [
            "Mangroves are unique and highly specialized coastal ecosystems found in tropical and subtropical regions. Here's some information about mangroves, specifically focusing on the Philippines:\n",
            "\n",
            "**Definition and Characteristics:**\n",
            "- Mangroves refer to both the diverse plant species adapted to brackish, saline coastal habitats and the overall ecosystem they form. These plants have adapted to survive in conditions of low oxygen, high salt concentrations, and periodic tidal flooding.\n",
            "\n",
            "**Distribution and Diversity in the Philippines:**\n",
            "- The Philippines is home to a significant proportion of the world's mangrove forests, with over 400,000 hectares of mangroves recorded in the early 2000s. However, this represents a substantial decline from historical estimates, indicating widespread loss of mangrove habitats.\n",
            "- The country's mangroves are predominantly located along the coasts of Luzon, Palawan, and Mindanao, with the highest concentration in the Western Mindanao-Western Visayas region.\n",
            "- The Philippines is known for its rich mangrove biodiversity, with over 40 true mangrove species and numerous associated plant and animal species. Some common mangrove tree species in the Philippines include Avicennia marina (gray or white mangrove), Rhizophora mucronata (red mangrove), Bruguiera gymnorhiza (oriental mangrove), and Sonneratia alba (apple mangrove).\n",
            "\n",
            "**Ecological Importance:**\n",
            "- Mangroves provide critical ecosystem services:\n",
            "   - **Coastal Protection:** Mangrove roots and sediments act as natural barriers against erosion, reducing the impact of waves, storms, and tsunamis.\n",
            "   - **Nursery Habitats:** They serve as vital nursery grounds for numerous marine species, including fish, crustaceans, and mollusks, contributing to the abundance of coastal fisheries.\n",
            "   - **Biodiversity Hotspots:** Mangrove ecosystems support a diverse range of flora and fauna, including endemic and migratory birds, reptiles, and mammals.\n",
            "   - **Carbon Sequestration:** Mangrove soils are efficient carbon sinks, helping mitigate climate change by storing large amounts of carbon.\n",
            "\n",
            "**Socio-Economic Significance:**\n",
            "- Mangroves in the Philippines play a crucial role in the livelihoods of coastal communities, providing food through fisheries, materials for construction and crafts, and sources of income from tourism and related industries.\n",
            "- They also offer natural resources for traditional medicine and contribute to local cultures and traditions.\n",
            "\n",
            "**Threats and Conservation:**\n",
            "- Mangrove ecosystems in the Philippines face numerous threats, including deforestation for aquaculture, agriculture, and urban development. Pollution, climate change, and natural disasters also impact these fragile ecosystems.\n",
            "- Conservation efforts are underway, focusing on reforestation initiatives, community-based management, and the establishment of protected areas. Various government agencies, NGOs, and local communities collaborate to preserve and restore mangrove habitats, recognizing their ecological, economic, and cultural value.\n",
            "\n",
            "Mangroves are essential ecosystems that provide numerous benefits to both the environment and human societies in the Philippines and worldwide. Understanding and protecting these unique habitats are vital for coastal conservation and sustainable development."
          ]
        }
      ]
    },
    {
      "cell_type": "markdown",
      "source": [
        "## Build Knowledge Base"
      ],
      "metadata": {
        "id": "TDdseTrwLALh"
      }
    },
    {
      "cell_type": "code",
      "execution_count": 7,
      "metadata": {
        "colab": {
          "base_uri": "https://localhost:8080/"
        },
        "outputId": "e09b8142-c88c-46a0-cf38-8e4f1df01a8e",
        "id": "W4jDr9WyIGQ1"
      },
      "outputs": [
        {
          "name": "stdout",
          "output_type": "stream",
          "text": [
            "You: i want to teach mangroves, tell me more about it\n",
            "Mangroves are a group of amazing trees and shrubs that live in a very unique and special habitat. They grow in coastal areas where the land meets the sea, often along muddy shores, estuaries, and tidal creeks. What's really cool about mangroves is that they have special adaptations that allow them to survive in salty water and low-oxygen soil, which is something most plants can't do!\n",
            "\n",
            "These trees have a very important job. They create a protective barrier along the coast, acting like a shield against strong waves, storms, and even tsunamis. Their roots are like a net that catches sediment and slows down the water, which helps prevent erosion and keeps the soil in place. This also makes the water clearer, which is good for fish and other sea creatures.\n",
            "\n",
            "Here are some fascinating facts about mangroves:\n",
            "- Mangrove forests are home to many different animals, including birds, fish, crabs, and even some reptiles like crocodiles!\n",
            "- They are really good at storing carbon dioxide, which helps to reduce the amount of this gas in our atmosphere and fight climate change.\n",
            "- The roots of mangroves provide a safe nursery area for young fish and other marine life, protecting them from predators.\n",
            "- Some mangrove trees have special breathing tubes, called pneumatophores, which grow upwards from the roots to get air when they are partially submerged.\n",
            "- Mangroves are very tough and resilient, and they can even survive in conditions that would kill most other plants.\n",
            "\n",
            "So, mangroves are not only beautiful and fascinating, but they are also incredibly important for protecting our coasts, supporting a wide variety of wildlife, and helping to keep our environment healthy.\n",
            "You: quit\n"
          ]
        }
      ],
      "source": [
        "# custom system msg\n",
        "system_message = \"\"\"## Task and Context\n",
        "You are a speaker for the locals of a community that needs to conserve their mangrove systems.\n",
        "\n",
        "## Style Guide\n",
        "Speak in a way that can be easily understood by anyone, even people who are not expert in English. Be precise.\n",
        "\"\"\"\n",
        "\n",
        "# initialize conversation\n",
        "messages = [\n",
        "    {\n",
        "        'role': 'system',\n",
        "        'content': system_message\n",
        "    }\n",
        "]\n",
        "\n",
        "while True:\n",
        "    # check if limit true\n",
        "    user_count = sum(1 for m in messages if m['role'] == 'user')\n",
        "    if user_count >= 10:\n",
        "        print(\"Conversation limit reached (10 exchanges). Please start a new chat.\")\n",
        "        break\n",
        "\n",
        "    # user input\n",
        "    user_message = input(\"You: \")\n",
        "    if user_message.lower() in [\"q\"]:\n",
        "        break\n",
        "\n",
        "    # append message to convo history\n",
        "    messages.append({'role': 'user', 'content': user_message})\n",
        "\n",
        "    # chat stream\n",
        "    bot_reply = \"\"\n",
        "    response = co.chat_stream(\n",
        "        model=\"command-r-plus-08-2024\",\n",
        "        messages=messages  # send full history\n",
        "    )\n",
        "\n",
        "    for event in response:\n",
        "        if event.type == \"content-delta\":\n",
        "            chunk = event.delta.message.content.text\n",
        "            print(chunk, end=\"\")\n",
        "            bot_reply += chunk\n",
        "\n",
        "    print()\n",
        "\n",
        "    # bot's reply add to convo history\n",
        "    messages.append({'role': 'assistant', 'content': bot_reply})\n"
      ]
    },
    {
      "cell_type": "code",
      "execution_count": 6,
      "metadata": {
        "id": "6GmWUIUTIEO-"
      },
      "outputs": [],
      "source": []
    },
    {
      "cell_type": "code",
      "execution_count": 6,
      "metadata": {
        "id": "UGgXs5AtPEme"
      },
      "outputs": [],
      "source": []
    },
    {
      "cell_type": "markdown",
      "source": [],
      "metadata": {
        "id": "_zaFlRF7BWNR"
      }
    },
    {
      "cell_type": "code",
      "source": [],
      "metadata": {
        "id": "Vuz0sIaJCLj4"
      },
      "execution_count": null,
      "outputs": []
    }
  ]
}
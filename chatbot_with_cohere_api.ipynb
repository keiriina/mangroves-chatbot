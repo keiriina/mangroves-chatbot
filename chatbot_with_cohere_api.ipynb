{
  "nbformat": 4,
  "nbformat_minor": 0,
  "metadata": {
    "colab": {
      "provenance": [],
      "authorship_tag": "ABX9TyNmzq6QjnuPEH5q9uvLwUtH",
      "include_colab_link": true
    },
    "kernelspec": {
      "name": "python3",
      "display_name": "Python 3"
    },
    "language_info": {
      "name": "python"
    }
  },
  "cells": [
    {
      "cell_type": "markdown",
      "metadata": {
        "id": "view-in-github",
        "colab_type": "text"
      },
      "source": [
        "<a href=\"https://colab.research.google.com/github/keiriina/mangroves-chatbot/blob/main/chatbot_with_cohere_api.ipynb\" target=\"_parent\"><img src=\"https://colab.research.google.com/assets/colab-badge.svg\" alt=\"Open In Colab\"/></a>"
      ]
    },
    {
      "cell_type": "markdown",
      "source": [
        "# Mangrove Chatbot\n",
        "\n",
        "> Hi! This is a chatbot that answers basic questions about mangroves.\n",
        "\n",
        "\n",
        "We'll do the following steps:\n",
        "- **Step 1: Quickstart** - Learn the quickest and easiest way to call the Chat endpoint.\n",
        "- **Step 2: Creating a custom system prompt** - Steer a chatbot's response toward certain styles, personas, or other characteristics.\n",
        "- **Step 3: Streaming the response** - Display a chatbot's response incrementally as it is generated, as opposed to waiting for the entire response to be completed.\n",
        "- **Step 4: Building the Chat History** - Explore how to get the chatbot to maintain the context of the conversation.\n",
        "- **Step 5: Retrieval-Augmented Generation (RAG): Adding a knowledge base** - Contextualize responses by adding a source of truth where the chatbot should find answers"
      ],
      "metadata": {
        "id": "6TJfVpIC81MG"
      }
    },
    {
      "cell_type": "code",
      "execution_count": 9,
      "metadata": {
        "id": "eXeg_pgZ8iiL",
        "outputId": "b4f67211-48ab-4a76-d308-a04fdeff96a5",
        "colab": {
          "base_uri": "https://localhost:8080/"
        }
      },
      "outputs": [
        {
          "output_type": "stream",
          "name": "stdout",
          "text": [
            "Collecting cohere\n",
            "  Downloading cohere-5.17.0-py3-none-any.whl.metadata (3.4 kB)\n",
            "Requirement already satisfied: python-dotenv in /usr/local/lib/python3.12/dist-packages (1.1.1)\n",
            "Requirement already satisfied: requests in /usr/local/lib/python3.12/dist-packages (2.32.4)\n",
            "Collecting fastavro<2.0.0,>=1.9.4 (from cohere)\n",
            "  Downloading fastavro-1.12.0-cp312-cp312-manylinux2014_x86_64.manylinux_2_17_x86_64.manylinux_2_28_x86_64.whl.metadata (5.7 kB)\n",
            "Requirement already satisfied: httpx>=0.21.2 in /usr/local/lib/python3.12/dist-packages (from cohere) (0.28.1)\n",
            "Collecting httpx-sse==0.4.0 (from cohere)\n",
            "  Downloading httpx_sse-0.4.0-py3-none-any.whl.metadata (9.0 kB)\n",
            "Requirement already satisfied: pydantic>=1.9.2 in /usr/local/lib/python3.12/dist-packages (from cohere) (2.11.7)\n",
            "Requirement already satisfied: pydantic-core<3.0.0,>=2.18.2 in /usr/local/lib/python3.12/dist-packages (from cohere) (2.33.2)\n",
            "Requirement already satisfied: tokenizers<1,>=0.15 in /usr/local/lib/python3.12/dist-packages (from cohere) (0.21.4)\n",
            "Collecting types-requests<3.0.0,>=2.0.0 (from cohere)\n",
            "  Downloading types_requests-2.32.4.20250809-py3-none-any.whl.metadata (2.0 kB)\n",
            "Requirement already satisfied: typing_extensions>=4.0.0 in /usr/local/lib/python3.12/dist-packages (from cohere) (4.14.1)\n",
            "Requirement already satisfied: charset_normalizer<4,>=2 in /usr/local/lib/python3.12/dist-packages (from requests) (3.4.3)\n",
            "Requirement already satisfied: idna<4,>=2.5 in /usr/local/lib/python3.12/dist-packages (from requests) (3.10)\n",
            "Requirement already satisfied: urllib3<3,>=1.21.1 in /usr/local/lib/python3.12/dist-packages (from requests) (2.5.0)\n",
            "Requirement already satisfied: certifi>=2017.4.17 in /usr/local/lib/python3.12/dist-packages (from requests) (2025.8.3)\n",
            "Requirement already satisfied: anyio in /usr/local/lib/python3.12/dist-packages (from httpx>=0.21.2->cohere) (4.10.0)\n",
            "Requirement already satisfied: httpcore==1.* in /usr/local/lib/python3.12/dist-packages (from httpx>=0.21.2->cohere) (1.0.9)\n",
            "Requirement already satisfied: h11>=0.16 in /usr/local/lib/python3.12/dist-packages (from httpcore==1.*->httpx>=0.21.2->cohere) (0.16.0)\n",
            "Requirement already satisfied: annotated-types>=0.6.0 in /usr/local/lib/python3.12/dist-packages (from pydantic>=1.9.2->cohere) (0.7.0)\n",
            "Requirement already satisfied: typing-inspection>=0.4.0 in /usr/local/lib/python3.12/dist-packages (from pydantic>=1.9.2->cohere) (0.4.1)\n",
            "Requirement already satisfied: huggingface-hub<1.0,>=0.16.4 in /usr/local/lib/python3.12/dist-packages (from tokenizers<1,>=0.15->cohere) (0.34.4)\n",
            "Requirement already satisfied: filelock in /usr/local/lib/python3.12/dist-packages (from huggingface-hub<1.0,>=0.16.4->tokenizers<1,>=0.15->cohere) (3.19.1)\n",
            "Requirement already satisfied: fsspec>=2023.5.0 in /usr/local/lib/python3.12/dist-packages (from huggingface-hub<1.0,>=0.16.4->tokenizers<1,>=0.15->cohere) (2025.3.0)\n",
            "Requirement already satisfied: packaging>=20.9 in /usr/local/lib/python3.12/dist-packages (from huggingface-hub<1.0,>=0.16.4->tokenizers<1,>=0.15->cohere) (25.0)\n",
            "Requirement already satisfied: pyyaml>=5.1 in /usr/local/lib/python3.12/dist-packages (from huggingface-hub<1.0,>=0.16.4->tokenizers<1,>=0.15->cohere) (6.0.2)\n",
            "Requirement already satisfied: tqdm>=4.42.1 in /usr/local/lib/python3.12/dist-packages (from huggingface-hub<1.0,>=0.16.4->tokenizers<1,>=0.15->cohere) (4.67.1)\n",
            "Requirement already satisfied: hf-xet<2.0.0,>=1.1.3 in /usr/local/lib/python3.12/dist-packages (from huggingface-hub<1.0,>=0.16.4->tokenizers<1,>=0.15->cohere) (1.1.7)\n",
            "Requirement already satisfied: sniffio>=1.1 in /usr/local/lib/python3.12/dist-packages (from anyio->httpx>=0.21.2->cohere) (1.3.1)\n",
            "Downloading cohere-5.17.0-py3-none-any.whl (295 kB)\n",
            "\u001b[2K   \u001b[90m━━━━━━━━━━━━━━━━━━━━━━━━━━━━━━━━━━━━━━━━\u001b[0m \u001b[32m295.3/295.3 kB\u001b[0m \u001b[31m5.4 MB/s\u001b[0m eta \u001b[36m0:00:00\u001b[0m\n",
            "\u001b[?25hDownloading httpx_sse-0.4.0-py3-none-any.whl (7.8 kB)\n",
            "Downloading fastavro-1.12.0-cp312-cp312-manylinux2014_x86_64.manylinux_2_17_x86_64.manylinux_2_28_x86_64.whl (3.5 MB)\n",
            "\u001b[2K   \u001b[90m━━━━━━━━━━━━━━━━━━━━━━━━━━━━━━━━━━━━━━━━\u001b[0m \u001b[32m3.5/3.5 MB\u001b[0m \u001b[31m53.5 MB/s\u001b[0m eta \u001b[36m0:00:00\u001b[0m\n",
            "\u001b[?25hDownloading types_requests-2.32.4.20250809-py3-none-any.whl (20 kB)\n",
            "Installing collected packages: types-requests, httpx-sse, fastavro, cohere\n",
            "  Attempting uninstall: httpx-sse\n",
            "    Found existing installation: httpx-sse 0.4.1\n",
            "    Uninstalling httpx-sse-0.4.1:\n",
            "      Successfully uninstalled httpx-sse-0.4.1\n",
            "Successfully installed cohere-5.17.0 fastavro-1.12.0 httpx-sse-0.4.0 types-requests-2.32.4.20250809\n"
          ]
        }
      ],
      "source": [
        "# install\n",
        "! pip install cohere python-dotenv requests"
      ]
    },
    {
      "cell_type": "code",
      "source": [
        "# import\n",
        "import cohere\n",
        "import os\n",
        "import dotenv\n",
        "import requests"
      ],
      "metadata": {
        "id": "VwnuYlpoADab"
      },
      "execution_count": 10,
      "outputs": []
    },
    {
      "cell_type": "code",
      "source": [
        "# load env\n",
        "dotenv.load_dotenv()\n",
        "\n",
        "co = cohere.ClientV2(os.getenv(\"COHERE_API_KEY\"))"
      ],
      "metadata": {
        "id": "bHldJRHwAfOm"
      },
      "execution_count": 12,
      "outputs": []
    },
    {
      "cell_type": "markdown",
      "source": [
        "## Define the System Prompt\n",
        "\n",
        "To get started with Chat, we add a user message to the `messages` parameter and define the model type in the `model` parameter. We then call the Chat endpoint through the client we created earlier.\n",
        "\n",
        "The response contains several objects. For simplicity, what we want right now is the `text` object.\n",
        "\n",
        "Here's an example of the assistant responding to a new hire's query asking for help to make introductions."
      ],
      "metadata": {
        "id": "3LL2OwHwADnT"
      }
    },
    {
      "cell_type": "code",
      "source": [
        "# Add the user message\n",
        "message = \"I'm teaching about Mangroves in the Philippines. Can you tell me more about mangroves?\"\n",
        "\n",
        "# Create a custom system message\n",
        "system_message=\"\"\"## Task and Context\n",
        "You are a speaker for the locals of a community that needs to conserve their mangrove systems.\n",
        "\n",
        "## Style Guide\n",
        "Speak in a way that can be easily understood by anyone, even people who are not expert in English. Be precise.\"\"\"\n",
        "\n",
        "# Add the messages\n",
        "messages = [\n",
        "    {\n",
        "        'role': 'system',\n",
        "        'content': system_message\n",
        "    },\n",
        "    {\n",
        "        'role': 'user',\n",
        "        'content': message\n",
        "    }\n",
        "]\n",
        "\n",
        "# Generate the response by streaming it\n",
        "response = co.chat_stream(model=\"command-r-plus-08-2024\",\n",
        "                          messages=[\n",
        "                              {\n",
        "                                  'role':'user',\n",
        "                                  'content': message\n",
        "                              }\n",
        "                          ])\n",
        "\n",
        "for event in response:\n",
        "    if event.type == \"content-delta\":\n",
        "        print(event.delta.message.content.text, end=\"\")"
      ],
      "metadata": {
        "id": "IL2bqGbvBX0T",
        "outputId": "ef181748-c7ae-4cd2-d4b1-1f12353b074b",
        "colab": {
          "base_uri": "https://localhost:8080/"
        }
      },
      "execution_count": 6,
      "outputs": [
        {
          "output_type": "stream",
          "name": "stdout",
          "text": [
            "Mangroves are unique and highly specialized coastal ecosystems found in tropical and subtropical regions. Here's some information about mangroves, specifically focusing on the Philippines:\n",
            "\n",
            "**Definition and Characteristics:**\n",
            "- Mangroves refer to both the habitat and the diverse group of trees and shrubs that thrive in saline coastal habitats. They are characterized by their ability to grow in intertidal zones, where they are regularly inundated with seawater.\n",
            "\n",
            "**Distribution in the Philippines:**\n",
            "- The Philippines is home to a significant portion of the world's mangrove forests, with an estimated 400,000 hectares of mangroves.\n",
            "- Mangroves are widely distributed across the Philippine archipelago, particularly in coastal areas and river estuaries. Some of the regions with notable mangrove ecosystems include Palawan, Zamboanga, Bohol, Leyte, Samar, and the Mindanao region.\n",
            "\n",
            "**Ecological Importance:**\n",
            "- Mangroves play a critical role in the Philippine ecosystem:\n",
            "   - **Coastal Protection:** Mangrove roots form intricate networks that stabilize coastlines, reduce erosion, and serve as a natural barrier against storm surges, tsunamis, and strong waves, protecting coastal communities.\n",
            "   - **Nursery Habitat:** Mangrove forests provide vital nursery grounds for various marine species, including fish, crustaceans, and mollusks. Many commercially important fish species spend their juvenile stages in mangroves before migrating to coral reefs or open seas.\n",
            "   - **Biodiversity:** Philippine mangroves support a diverse range of flora and fauna, including endemic species. They provide habitats for birds, reptiles, insects, and mammals, contributing to the country's rich biodiversity.\n",
            "\n",
            "**Species of Mangrove Trees:**\n",
            "- The Philippines hosts several species of true mangroves and mangrove associates:\n",
            "   - **Rhizophora mucronata (Bakauan Babae):** A common species with distinctive stilt roots.\n",
            "   - **Rhizophora apiculata (Bakauan lalaki):** Known for its elongated pencil-like roots.\n",
            "   - **Avicennia marina (Pagatpat):** Tolerant of highly saline conditions and characterized by aerial roots called pneumatophores.\n",
            "   - **Bruguiera gymnorhiza (Tangal):** Found in deeper mangrove areas.\n",
            "   - **Sonneratia alba (Pagatpat):** Recognized by its white flowers.\n",
            "\n",
            "**Threats and Conservation:**\n",
            "- Mangrove ecosystems in the Philippines face various threats, including deforestation, coastal development, pollution, and climate change.\n",
            "- Mangrove destruction has led to increased coastal erosion, loss of biodiversity, and reduced protection against natural disasters.\n",
            "- Conservation efforts are underway to restore and protect mangrove forests. The Philippine government, environmental organizations, and local communities are collaborating to implement reforestation programs, establish marine-protected areas, and raise awareness about the importance of mangroves.\n",
            "\n",
            "**Socio-Economic Significance:**\n",
            "- Mangroves in the Philippines provide numerous socio-economic benefits:\n",
            "   - **Fisheries:** Healthy mangroves support sustainable fisheries, contributing to the livelihoods of local fishing communities.\n",
            "   - **Tourism:** Mangrove forests attract eco-tourists, offering opportunities for nature-based tourism experiences.\n",
            "   - **Wood Products:** Mangrove wood has been traditionally used for fuelwood, construction, and charcoal production. Sustainable management practices are essential to ensure the long-term viability of these resources.\n",
            "\n",
            "Mangroves in the Philippines are not only ecologically significant but also culturally and economically important. Preserving and restoring these coastal ecosystems is crucial for the country's environmental sustainability and the well-being of coastal communities."
          ]
        }
      ]
    },
    {
      "cell_type": "markdown",
      "source": [
        "## Build Knowledge Base"
      ],
      "metadata": {
        "id": "TDdseTrwLALh"
      }
    },
    {
      "cell_type": "code",
      "source": [
        "! pip install pymupdf"
      ],
      "metadata": {
        "colab": {
          "base_uri": "https://localhost:8080/"
        },
        "id": "lnWBy4hsoe-Q",
        "outputId": "89789879-33d6-48de-9715-e3598dd738b2"
      },
      "execution_count": 3,
      "outputs": [
        {
          "output_type": "stream",
          "name": "stdout",
          "text": [
            "Collecting pymupdf\n",
            "  Downloading pymupdf-1.26.4-cp39-abi3-manylinux_2_28_x86_64.whl.metadata (3.4 kB)\n",
            "Downloading pymupdf-1.26.4-cp39-abi3-manylinux_2_28_x86_64.whl (24.1 MB)\n",
            "\u001b[2K   \u001b[90m━━━━━━━━━━━━━━━━━━━━━━━━━━━━━━━━━━━━━━━━\u001b[0m \u001b[32m24.1/24.1 MB\u001b[0m \u001b[31m76.0 MB/s\u001b[0m eta \u001b[36m0:00:00\u001b[0m\n",
            "\u001b[?25hInstalling collected packages: pymupdf\n",
            "Successfully installed pymupdf-1.26.4\n"
          ]
        }
      ]
    },
    {
      "cell_type": "code",
      "execution_count": 5,
      "metadata": {
        "id": "6GmWUIUTIEO-"
      },
      "outputs": [],
      "source": [
        "import pymupdf\n",
        "\n",
        "def load_pdf(file_path):\n",
        "    doc = pymupdf.open(file_path)\n",
        "    text = \"\"\n",
        "    for page in doc:\n",
        "        text += page.get_text()\n",
        "    return text\n",
        "\n",
        "pdf_text = load_pdf(\"mangroves.pdf\")\n"
      ]
    },
    {
      "cell_type": "code",
      "source": [
        "documents = [\n",
        "    {\n",
        "        \"id\": \"mangrove-doc\",\n",
        "        \"data\": {\n",
        "            \"title\": \"Mangroves in the Philippines\",\n",
        "            \"text\": pdf_text\n",
        "        }\n",
        "    }\n",
        "]\n"
      ],
      "metadata": {
        "id": "THHJiYJnGfs7"
      },
      "execution_count": 14,
      "outputs": []
    },
    {
      "cell_type": "markdown",
      "source": [
        "## Build Conversation Memory"
      ],
      "metadata": {
        "id": "_zaFlRF7BWNR"
      }
    },
    {
      "cell_type": "code",
      "execution_count": 16,
      "metadata": {
        "colab": {
          "base_uri": "https://localhost:8080/"
        },
        "outputId": "526f77d2-b58f-4e94-eff1-83d6bcd67803",
        "id": "W4jDr9WyIGQ1"
      },
      "outputs": [
        {
          "name": "stdout",
          "output_type": "stream",
          "text": [
            "You: q\n"
          ]
        }
      ],
      "source": [
        "# custom system msg\n",
        "system_message = \"\"\"## Task and Context\n",
        "You are a speaker for the locals of a community that needs to conserve their mangrove systems.\n",
        "\n",
        "## Style Guide\n",
        "Speak in a way that can be easily understood by anyone, even people who are not expert in English. Be precise.\n",
        "\"\"\"\n",
        "\n",
        "# initialize conversation\n",
        "messages = [\n",
        "    {\n",
        "        'role': 'system',\n",
        "        'content': system_message\n",
        "    }\n",
        "]\n",
        "\n",
        "while True:\n",
        "    # check if limit true\n",
        "    user_count = sum(1 for m in messages if m['role'] == 'user')\n",
        "    if user_count >= 10:\n",
        "        print(\"Conversation limit reached (10 exchanges). Please start a new chat.\")\n",
        "        break\n",
        "\n",
        "    # user input\n",
        "    user_message = input(\"You: \")\n",
        "    if user_message.lower() in [\"q\"]:\n",
        "        break\n",
        "\n",
        "    # append message to convo history\n",
        "    messages.append({'role': 'user', 'content': user_message})\n",
        "\n",
        "    # chat stream\n",
        "    bot_reply = \"\"\n",
        "    response = co.chat_stream(\n",
        "        model=\"command-r-plus-08-2024\",\n",
        "        messages=messages,\n",
        "        documents=documents\n",
        "    )\n",
        "\n",
        "    for event in response:\n",
        "        if event.type == \"content-delta\":\n",
        "            chunk = event.delta.message.content.text\n",
        "            print(chunk, end=\"\")\n",
        "            bot_reply += chunk\n",
        "\n",
        "    print()\n",
        "\n",
        "    # bot's reply add to convo history\n",
        "    messages.append({'role': 'assistant', 'content': bot_reply})\n"
      ]
    }
  ]
}
{
  "nbformat": 4,
  "nbformat_minor": 0,
  "metadata": {
    "colab": {
      "provenance": [],
      "authorship_tag": "ABX9TyNN0eSjVfDabsxc8KEaTdQr",
      "include_colab_link": true
    },
    "kernelspec": {
      "name": "python3",
      "display_name": "Python 3"
    },
    "language_info": {
      "name": "python"
    }
  },
  "cells": [
    {
      "cell_type": "markdown",
      "metadata": {
        "id": "view-in-github",
        "colab_type": "text"
      },
      "source": [
        "<a href=\"https://colab.research.google.com/github/keiriina/mangroves-chatbot/blob/main/chatbot_with_cohere_api.ipynb\" target=\"_parent\"><img src=\"https://colab.research.google.com/assets/colab-badge.svg\" alt=\"Open In Colab\"/></a>"
      ]
    },
    {
      "cell_type": "markdown",
      "source": [
        "# Mangrove Chatbot\n",
        "\n",
        "> Hi! This is a chatbot that answers basic questions about mangroves.\n",
        "\n",
        "\n",
        "We'll do the following steps:\n",
        "- **Step 1: Quickstart** - Learn the quickest and easiest way to call the Chat endpoint.\n",
        "- **Step 2: Creating a custom system prompt** - Steer a chatbot's response toward certain styles, personas, or other characteristics.\n",
        "- **Step 3: Streaming the response** - Display a chatbot's response incrementally as it is generated, as opposed to waiting for the entire response to be completed.\n",
        "- **Step 4: Building the Chat History** - Explore how to get the chatbot to maintain the context of the conversation.\n",
        "- **Step 5: Retrieval-Augmented Generation (RAG): Adding a knowledge base** - Contextualize responses by adding a source of truth where the chatbot should find answers"
      ],
      "metadata": {
        "id": "6TJfVpIC81MG"
      }
    },
    {
      "cell_type": "code",
      "execution_count": null,
      "metadata": {
        "id": "eXeg_pgZ8iiL"
      },
      "outputs": [],
      "source": []
    }
  ]
}